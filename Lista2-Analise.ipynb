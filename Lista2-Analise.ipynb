{
 "cells": [
  {
   "cell_type": "code",
   "execution_count": 55,
   "metadata": {},
   "outputs": [],
   "source": [
    "import numpy as np\n",
    "import matplotlib.pyplot as plt\n",
    "from sympy import *"
   ]
  },
  {
   "cell_type": "code",
   "execution_count": 56,
   "metadata": {},
   "outputs": [],
   "source": [
    "n, i, p = symbols(\"n i p\")\n",
    "init_printing()"
   ]
  },
  {
   "cell_type": "code",
   "execution_count": 57,
   "metadata": {},
   "outputs": [
    {
     "ename": "SyntaxError",
     "evalue": "invalid syntax (<ipython-input-57-5b89baee95f9>, line 15)",
     "output_type": "error",
     "traceback": [
      "\u001b[1;36m  File \u001b[1;32m\"<ipython-input-57-5b89baee95f9>\"\u001b[1;36m, line \u001b[1;32m15\u001b[0m\n\u001b[1;33m    ax.set_xlabel(\"$%s$\" % latex(n), fontsize=)\u001b[0m\n\u001b[1;37m                                              ^\u001b[0m\n\u001b[1;31mSyntaxError\u001b[0m\u001b[1;31m:\u001b[0m invalid syntax\n"
     ]
    }
   ],
   "source": [
    "def plot_seq(ax, an, n, ninic, nend, limit=None):\n",
    "    an_values = []\n",
    "\n",
    "    nvalues = range(ninc, nend+1)\n",
    "\n",
    "    for j in nvalues:\n",
    "        an_value = an.subs(n, j).evalf()\n",
    "        an_values.append(an_value)\n",
    "    \n",
    "    ax.plot(nvalues, an_values, label=\"$%s$\" % latex(an))\n",
    "    \n",
    "    if limit is not None:\n",
    "        ax.plot([ninic, nend], [limit, limit], ls=\"--\", color=\"black\")\n",
    "\n",
    "    ax.set_xlabel(\"$%s$\" % latex(n), fontsize=)"
   ]
  },
  {
   "cell_type": "markdown",
   "metadata": {},
   "source": [
    "## Questão 6\n"
   ]
  },
  {
   "cell_type": "markdown",
   "metadata": {},
   "source": [
    "### item A"
   ]
  },
  {
   "cell_type": "code",
   "execution_count": null,
   "metadata": {},
   "outputs": [],
   "source": [
    "an = Sum(i/n**2, (i, 1, n))\n",
    "an"
   ]
  },
  {
   "cell_type": "code",
   "execution_count": null,
   "metadata": {},
   "outputs": [],
   "source": [
    "  \n",
    "fig, ax = plt.subplots(1, 1, figsize=(16,9))\n",
    "plot_seq(ax, an, n, 1, 200, limit=0.5)   \n",
    "\n",
    "ax.legend(fontsize=16)\n",
    "\n",
    "plt.show()"
   ]
  },
  {
   "cell_type": "markdown",
   "metadata": {},
   "source": [
    "### Item B"
   ]
  },
  {
   "cell_type": "code",
   "execution_count": null,
   "metadata": {},
   "outputs": [],
   "source": [
    "an = Sum(1/sqrt(n+i), (i, 1, n))\n",
    "an"
   ]
  },
  {
   "cell_type": "code",
   "execution_count": null,
   "metadata": {},
   "outputs": [],
   "source": [
    "bn = sqrt(n/2)\n",
    "bn"
   ]
  },
  {
   "cell_type": "code",
   "execution_count": null,
   "metadata": {},
   "outputs": [],
   "source": [
    "ninc = 1\n",
    "nend = 100\n",
    "\n",
    "    \n",
    "fig, ax = plt.subplots(1, 1, figsize=(16,9))\n",
    "    \n",
    "plot_seq(ax, an, n, ninc, nend)\n",
    "plot_seq(ax, bn, n, ninc, nend)\n",
    "\n",
    "ax.legend(fontsize=16)\n",
    "\n",
    "plt.show()"
   ]
  }
 ],
 "metadata": {
  "kernelspec": {
   "display_name": "Python 3",
   "language": "python",
   "name": "python3"
  },
  "language_info": {
   "codemirror_mode": {
    "name": "ipython",
    "version": 3
   },
   "file_extension": ".py",
   "mimetype": "text/x-python",
   "name": "python",
   "nbconvert_exporter": "python",
   "pygments_lexer": "ipython3",
   "version": "3.7.4"
  }
 },
 "nbformat": 4,
 "nbformat_minor": 2
}
